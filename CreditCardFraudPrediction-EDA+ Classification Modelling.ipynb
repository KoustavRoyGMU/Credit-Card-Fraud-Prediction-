{
 "cells": [
  {
   "cell_type": "markdown",
   "id": "f3564132",
   "metadata": {},
   "source": [
    "# Detecting Credit Card Fraud\n",
    "We have a dataset consisting of credit card transactions classified into two types of records: fraud and non-fraud. We try to understand the features present in the data, their importance in predicting our target class and finally build a model to classify frauds with a high precision.\n",
    "\n",
    "In the steps below, first we prepare out dataset and perform exploratory data analysis to understand the features present. Then, we do the necessary feature encoding and engineering before moving on to build our model and evaluate it."
   ]
  },
  {
   "cell_type": "markdown",
   "id": "b896358b",
   "metadata": {},
   "source": [
    "### Load the data"
   ]
  },
  {
   "cell_type": "code",
   "execution_count": 130,
   "id": "0a22666b",
   "metadata": {},
   "outputs": [
    {
     "data": {
      "text/plain": [
       "(15192, 13)"
      ]
     },
     "execution_count": 130,
     "metadata": {},
     "output_type": "execute_result"
    }
   ],
   "source": [
    "#import necessary packages\n",
    "import nbconvert\n",
    "import numpy as np # linear algebra\n",
    "import pandas as pd # data processing with dataframes\n",
    "import seaborn as sns #plotting\n",
    "import matplotlib.pyplot as plt #plotting\n",
    "\n",
    "#read and load the csv files into dataframes\n",
    "card_base=pd.read_csv('CardBase.csv');\n",
    "cust_base=pd.read_csv('CustomerBase.csv');\n",
    "fraud_base=pd.read_csv('FraudBase.csv');\n",
    "transaction_base=pd.read_csv('TransactionBase.csv');\n",
    "\n",
    "#Join/merge the four datasets to get a consolidated overview\n",
    "df1=pd.merge(cust_base, card_base, how=\"left\", on=[\"Cust_ID\"])\n",
    "df2=pd.merge(df1,transaction_base,how=\"left\", left_on='Card_Number', right_on='Credit_Card_ID' )\n",
    "transaction_all= pd.merge(df2,fraud_base, how=\"left\", on=\"Transaction_ID\" )\n",
    "\n",
    "#Drop the duplicate column appearing twice\n",
    "transaction_all.drop('Credit_Card_ID', axis=1)\n",
    "\n",
    "#Get the number of rows and columns present in the consolidated data\n",
    "transaction_all.shape"
   ]
  },
  {
   "cell_type": "markdown",
   "id": "bae1632e",
   "metadata": {},
   "source": [
    "###  Exploratory Data Analysis"
   ]
  },
  {
   "cell_type": "markdown",
   "id": "ee3dace1",
   "metadata": {},
   "source": [
    "Here, we get a glimpse of our dataset."
   ]
  },
  {
   "cell_type": "code",
   "execution_count": 131,
   "id": "aa4fe3f0",
   "metadata": {
    "scrolled": false
   },
   "outputs": [
    {
     "data": {
      "text/html": [
       "<div>\n",
       "<style scoped>\n",
       "    .dataframe tbody tr th:only-of-type {\n",
       "        vertical-align: middle;\n",
       "    }\n",
       "\n",
       "    .dataframe tbody tr th {\n",
       "        vertical-align: top;\n",
       "    }\n",
       "\n",
       "    .dataframe thead th {\n",
       "        text-align: right;\n",
       "    }\n",
       "</style>\n",
       "<table border=\"1\" class=\"dataframe\">\n",
       "  <thead>\n",
       "    <tr style=\"text-align: right;\">\n",
       "      <th></th>\n",
       "      <th>Cust_ID</th>\n",
       "      <th>Age</th>\n",
       "      <th>Customer_Segment</th>\n",
       "      <th>Customer_Vintage_Group</th>\n",
       "      <th>Card_Number</th>\n",
       "      <th>Card_Family</th>\n",
       "      <th>Credit_Limit</th>\n",
       "      <th>Transaction_ID</th>\n",
       "      <th>Transaction_Date</th>\n",
       "      <th>Credit_Card_ID</th>\n",
       "      <th>Transaction_Value</th>\n",
       "      <th>Transaction_Segment</th>\n",
       "      <th>Fraud_Flag</th>\n",
       "    </tr>\n",
       "  </thead>\n",
       "  <tbody>\n",
       "    <tr>\n",
       "      <th>0</th>\n",
       "      <td>CC25034</td>\n",
       "      <td>35</td>\n",
       "      <td>Diamond</td>\n",
       "      <td>VG1</td>\n",
       "      <td>NaN</td>\n",
       "      <td>NaN</td>\n",
       "      <td>NaN</td>\n",
       "      <td>NaN</td>\n",
       "      <td>NaN</td>\n",
       "      <td>NaN</td>\n",
       "      <td>NaN</td>\n",
       "      <td>NaN</td>\n",
       "      <td>NaN</td>\n",
       "    </tr>\n",
       "    <tr>\n",
       "      <th>1</th>\n",
       "      <td>CC59625</td>\n",
       "      <td>22</td>\n",
       "      <td>Diamond</td>\n",
       "      <td>VG1</td>\n",
       "      <td>NaN</td>\n",
       "      <td>NaN</td>\n",
       "      <td>NaN</td>\n",
       "      <td>NaN</td>\n",
       "      <td>NaN</td>\n",
       "      <td>NaN</td>\n",
       "      <td>NaN</td>\n",
       "      <td>NaN</td>\n",
       "      <td>NaN</td>\n",
       "    </tr>\n",
       "    <tr>\n",
       "      <th>2</th>\n",
       "      <td>CC69314</td>\n",
       "      <td>33</td>\n",
       "      <td>Diamond</td>\n",
       "      <td>VG1</td>\n",
       "      <td>NaN</td>\n",
       "      <td>NaN</td>\n",
       "      <td>NaN</td>\n",
       "      <td>NaN</td>\n",
       "      <td>NaN</td>\n",
       "      <td>NaN</td>\n",
       "      <td>NaN</td>\n",
       "      <td>NaN</td>\n",
       "      <td>NaN</td>\n",
       "    </tr>\n",
       "    <tr>\n",
       "      <th>3</th>\n",
       "      <td>CC67036</td>\n",
       "      <td>46</td>\n",
       "      <td>Diamond</td>\n",
       "      <td>VG1</td>\n",
       "      <td>NaN</td>\n",
       "      <td>NaN</td>\n",
       "      <td>NaN</td>\n",
       "      <td>NaN</td>\n",
       "      <td>NaN</td>\n",
       "      <td>NaN</td>\n",
       "      <td>NaN</td>\n",
       "      <td>NaN</td>\n",
       "      <td>NaN</td>\n",
       "    </tr>\n",
       "    <tr>\n",
       "      <th>4</th>\n",
       "      <td>CC25597</td>\n",
       "      <td>44</td>\n",
       "      <td>Diamond</td>\n",
       "      <td>VG1</td>\n",
       "      <td>NaN</td>\n",
       "      <td>NaN</td>\n",
       "      <td>NaN</td>\n",
       "      <td>NaN</td>\n",
       "      <td>NaN</td>\n",
       "      <td>NaN</td>\n",
       "      <td>NaN</td>\n",
       "      <td>NaN</td>\n",
       "      <td>NaN</td>\n",
       "    </tr>\n",
       "    <tr>\n",
       "      <th>5</th>\n",
       "      <td>CC57469</td>\n",
       "      <td>22</td>\n",
       "      <td>Diamond</td>\n",
       "      <td>VG1</td>\n",
       "      <td>NaN</td>\n",
       "      <td>NaN</td>\n",
       "      <td>NaN</td>\n",
       "      <td>NaN</td>\n",
       "      <td>NaN</td>\n",
       "      <td>NaN</td>\n",
       "      <td>NaN</td>\n",
       "      <td>NaN</td>\n",
       "      <td>NaN</td>\n",
       "    </tr>\n",
       "    <tr>\n",
       "      <th>6</th>\n",
       "      <td>CC15926</td>\n",
       "      <td>50</td>\n",
       "      <td>Diamond</td>\n",
       "      <td>VG1</td>\n",
       "      <td>NaN</td>\n",
       "      <td>NaN</td>\n",
       "      <td>NaN</td>\n",
       "      <td>NaN</td>\n",
       "      <td>NaN</td>\n",
       "      <td>NaN</td>\n",
       "      <td>NaN</td>\n",
       "      <td>NaN</td>\n",
       "      <td>NaN</td>\n",
       "    </tr>\n",
       "    <tr>\n",
       "      <th>7</th>\n",
       "      <td>CC31951</td>\n",
       "      <td>46</td>\n",
       "      <td>Diamond</td>\n",
       "      <td>VG1</td>\n",
       "      <td>NaN</td>\n",
       "      <td>NaN</td>\n",
       "      <td>NaN</td>\n",
       "      <td>NaN</td>\n",
       "      <td>NaN</td>\n",
       "      <td>NaN</td>\n",
       "      <td>NaN</td>\n",
       "      <td>NaN</td>\n",
       "      <td>NaN</td>\n",
       "    </tr>\n",
       "    <tr>\n",
       "      <th>8</th>\n",
       "      <td>CC32388</td>\n",
       "      <td>26</td>\n",
       "      <td>Diamond</td>\n",
       "      <td>VG1</td>\n",
       "      <td>NaN</td>\n",
       "      <td>NaN</td>\n",
       "      <td>NaN</td>\n",
       "      <td>NaN</td>\n",
       "      <td>NaN</td>\n",
       "      <td>NaN</td>\n",
       "      <td>NaN</td>\n",
       "      <td>NaN</td>\n",
       "      <td>NaN</td>\n",
       "    </tr>\n",
       "    <tr>\n",
       "      <th>9</th>\n",
       "      <td>CC48802</td>\n",
       "      <td>44</td>\n",
       "      <td>Diamond</td>\n",
       "      <td>VG1</td>\n",
       "      <td>NaN</td>\n",
       "      <td>NaN</td>\n",
       "      <td>NaN</td>\n",
       "      <td>NaN</td>\n",
       "      <td>NaN</td>\n",
       "      <td>NaN</td>\n",
       "      <td>NaN</td>\n",
       "      <td>NaN</td>\n",
       "      <td>NaN</td>\n",
       "    </tr>\n",
       "  </tbody>\n",
       "</table>\n",
       "</div>"
      ],
      "text/plain": [
       "   Cust_ID  Age Customer_Segment Customer_Vintage_Group Card_Number  \\\n",
       "0  CC25034   35          Diamond                    VG1         NaN   \n",
       "1  CC59625   22          Diamond                    VG1         NaN   \n",
       "2  CC69314   33          Diamond                    VG1         NaN   \n",
       "3  CC67036   46          Diamond                    VG1         NaN   \n",
       "4  CC25597   44          Diamond                    VG1         NaN   \n",
       "5  CC57469   22          Diamond                    VG1         NaN   \n",
       "6  CC15926   50          Diamond                    VG1         NaN   \n",
       "7  CC31951   46          Diamond                    VG1         NaN   \n",
       "8  CC32388   26          Diamond                    VG1         NaN   \n",
       "9  CC48802   44          Diamond                    VG1         NaN   \n",
       "\n",
       "  Card_Family  Credit_Limit Transaction_ID Transaction_Date Credit_Card_ID  \\\n",
       "0         NaN           NaN            NaN              NaN            NaN   \n",
       "1         NaN           NaN            NaN              NaN            NaN   \n",
       "2         NaN           NaN            NaN              NaN            NaN   \n",
       "3         NaN           NaN            NaN              NaN            NaN   \n",
       "4         NaN           NaN            NaN              NaN            NaN   \n",
       "5         NaN           NaN            NaN              NaN            NaN   \n",
       "6         NaN           NaN            NaN              NaN            NaN   \n",
       "7         NaN           NaN            NaN              NaN            NaN   \n",
       "8         NaN           NaN            NaN              NaN            NaN   \n",
       "9         NaN           NaN            NaN              NaN            NaN   \n",
       "\n",
       "   Transaction_Value Transaction_Segment  Fraud_Flag  \n",
       "0                NaN                 NaN         NaN  \n",
       "1                NaN                 NaN         NaN  \n",
       "2                NaN                 NaN         NaN  \n",
       "3                NaN                 NaN         NaN  \n",
       "4                NaN                 NaN         NaN  \n",
       "5                NaN                 NaN         NaN  \n",
       "6                NaN                 NaN         NaN  \n",
       "7                NaN                 NaN         NaN  \n",
       "8                NaN                 NaN         NaN  \n",
       "9                NaN                 NaN         NaN  "
      ]
     },
     "execution_count": 131,
     "metadata": {},
     "output_type": "execute_result"
    }
   ],
   "source": [
    "#View the top 10 rows\n",
    "transaction_all.head(10)"
   ]
  },
  {
   "cell_type": "markdown",
   "id": "5fd85b51",
   "metadata": {},
   "source": [
    "We can see that there are null values present in multiple columns. We try to understand the datatypes of the different columns present and check for columns containing null values"
   ]
  },
  {
   "cell_type": "code",
   "execution_count": 132,
   "id": "22c3c81f",
   "metadata": {},
   "outputs": [
    {
     "name": "stdout",
     "output_type": "stream",
     "text": [
      "<class 'pandas.core.frame.DataFrame'>\n",
      "Int64Index: 15192 entries, 0 to 15191\n",
      "Data columns (total 13 columns):\n",
      " #   Column                  Non-Null Count  Dtype  \n",
      "---  ------                  --------------  -----  \n",
      " 0   Cust_ID                 15192 non-null  object \n",
      " 1   Age                     15192 non-null  int64  \n",
      " 2   Customer_Segment        15192 non-null  object \n",
      " 3   Customer_Vintage_Group  15192 non-null  object \n",
      " 4   Card_Number             10000 non-null  object \n",
      " 5   Card_Family             10000 non-null  object \n",
      " 6   Credit_Limit            10000 non-null  float64\n",
      " 7   Transaction_ID          10000 non-null  object \n",
      " 8   Transaction_Date        10000 non-null  object \n",
      " 9   Credit_Card_ID          10000 non-null  object \n",
      " 10  Transaction_Value       10000 non-null  float64\n",
      " 11  Transaction_Segment     10000 non-null  object \n",
      " 12  Fraud_Flag              109 non-null    float64\n",
      "dtypes: float64(3), int64(1), object(9)\n",
      "memory usage: 1.6+ MB\n"
     ]
    }
   ],
   "source": [
    "#get info about all columns: dataypes and number of null values contained\n",
    "transaction_all.info()"
   ]
  },
  {
   "cell_type": "markdown",
   "id": "dff3fbd3",
   "metadata": {},
   "source": [
    "We see from the above output that many columns contain equal number of null values. We will drop null values from one particular column to check if other columns contain missing values in the same rows. \n",
    "\n",
    "We also drop the duplicates present."
   ]
  },
  {
   "cell_type": "code",
   "execution_count": 133,
   "id": "e60481c1",
   "metadata": {
    "scrolled": true
   },
   "outputs": [
    {
     "name": "stdout",
     "output_type": "stream",
     "text": [
      "<class 'pandas.core.frame.DataFrame'>\n",
      "Int64Index: 10000 entries, 12 to 15179\n",
      "Data columns (total 13 columns):\n",
      " #   Column                  Non-Null Count  Dtype  \n",
      "---  ------                  --------------  -----  \n",
      " 0   Cust_ID                 10000 non-null  object \n",
      " 1   Age                     10000 non-null  int64  \n",
      " 2   Customer_Segment        10000 non-null  object \n",
      " 3   Customer_Vintage_Group  10000 non-null  object \n",
      " 4   Card_Number             10000 non-null  object \n",
      " 5   Card_Family             10000 non-null  object \n",
      " 6   Credit_Limit            10000 non-null  float64\n",
      " 7   Transaction_ID          10000 non-null  object \n",
      " 8   Transaction_Date        10000 non-null  object \n",
      " 9   Credit_Card_ID          10000 non-null  object \n",
      " 10  Transaction_Value       10000 non-null  float64\n",
      " 11  Transaction_Segment     10000 non-null  object \n",
      " 12  Fraud_Flag              109 non-null    float64\n",
      "dtypes: float64(3), int64(1), object(9)\n",
      "memory usage: 1.1+ MB\n"
     ]
    }
   ],
   "source": [
    "transaction_all.drop_duplicates(inplace=True)\n",
    "transaction_all.dropna(subset=['Card_Number'],inplace=True)\n",
    "transaction_all.info()"
   ]
  },
  {
   "cell_type": "markdown",
   "id": "bab87093",
   "metadata": {},
   "source": [
    "We see that now there are no null values present in our dataset. \n",
    "\n",
    "Our target column- Fraud_Flag is an object type column. We convert this an integer-type column for building our model, and fill the Fraud_Flag column with 0 for the non-fraud records.\n",
    "\n",
    "Also, converting the Transaction_Date colum to datetime so that extraction of necessary information is possible."
   ]
  },
  {
   "cell_type": "code",
   "execution_count": 112,
   "id": "228a2414",
   "metadata": {},
   "outputs": [],
   "source": [
    "#fill 0 as the value is the Fraud_Fla column for the valid transactions\n",
    "transaction_all['Fraud_Flag'].fillna(0, inplace=True)\n",
    "transaction_all['Fraud_Flag']=transaction_all['Fraud_Flag'].astype(int)\n",
    "transaction_all['Transaction_Date']=pd.to_datetime(transaction_all['Transaction_Date'])"
   ]
  },
  {
   "cell_type": "markdown",
   "id": "46480616",
   "metadata": {},
   "source": [
    "We plot the correlation matrix for checking any correlation between the numerical features"
   ]
  },
  {
   "cell_type": "code",
   "execution_count": 113,
   "id": "c1343d22",
   "metadata": {},
   "outputs": [
    {
     "name": "stdout",
     "output_type": "stream",
     "text": [
      "                        Age  Credit_Limit  Transaction_Value  Fraud_Flag\n",
      "Age                1.000000     -0.012878          -0.001739   -0.006525\n",
      "Credit_Limit      -0.012878      1.000000          -0.006661   -0.005704\n",
      "Transaction_Value -0.001739     -0.006661           1.000000    0.014976\n",
      "Fraud_Flag        -0.006525     -0.005704           0.014976    1.000000\n"
     ]
    },
    {
     "data": {
      "image/png": "[encoded data removed]",
      "text/plain": [
       "<Figure size 432x288 with 2 Axes>"
      ]
     },
     "metadata": {},
     "output_type": "display_data"
    }
   ],
   "source": [
    "#Checking the correlation matrix for finding correlation between the numeric variables\n",
    "corr_matrix = transaction_all.corr()\n",
    "print(corr_matrix)\n",
    "fig = plt.figure(figsize = (6, 4))\n",
    "sns.heatmap(corr_matrix, vmin=-1, vmax=1)\n",
    "plt.show()"
   ]
  },
  {
   "cell_type": "markdown",
   "id": "b8fdbc6f",
   "metadata": {},
   "source": [
    "Next, we try to understand how imbalanced our dataset is with the help of a countplot"
   ]
  },
  {
   "cell_type": "code",
   "execution_count": 114,
   "id": "6d8332a1",
   "metadata": {},
   "outputs": [
    {
     "data": {
      "text/plain": [
       "<AxesSubplot:xlabel='Fraud_Flag', ylabel='count'>"
      ]
     },
     "execution_count": 114,
     "metadata": {},
     "output_type": "execute_result"
    },
    {
     "data": {
      "image/png": "[encoded data removed]",
      "text/plain": [
       "<Figure size 432x288 with 1 Axes>"
      ]
     },
     "metadata": {},
     "output_type": "display_data"
    }
   ],
   "source": [
    "sns.countplot(x=transaction_all['Fraud_Flag'],color='red')\n",
    "\n",
    "#plt.show()"
   ]
  },
  {
   "cell_type": "markdown",
   "id": "53b74cda",
   "metadata": {},
   "source": [
    "Thus, we see that we are dealing with a very heavily imbalanced dataset here. We will be using sampling methods to effectively deal with this, prior to building our classification model."
   ]
  },
  {
   "cell_type": "markdown",
   "id": "617af4de",
   "metadata": {},
   "source": [
    "### Exploring high-level summary of transactions and frauds"
   ]
  },
  {
   "cell_type": "markdown",
   "id": "a1d4a7d7",
   "metadata": {},
   "source": [
    "We have a number of categorical variables present in our dataset. We will visualize the total number of frauds against these categories for making a high-level comparitive study"
   ]
  },
  {
   "cell_type": "code",
   "execution_count": 115,
   "id": "34e0610a",
   "metadata": {},
   "outputs": [
    {
     "data": {
      "text/plain": [
       "<Figure size 432x288 with 0 Axes>"
      ]
     },
     "metadata": {},
     "output_type": "display_data"
    },
    {
     "data": {
      "image/png": "[encoded data removed]",
      "text/plain": [
       "<Figure size 720x504 with 4 Axes>"
      ]
     },
     "metadata": {},
     "output_type": "display_data"
    }
   ],
   "source": [
    "#Using seaborn to draw 4 barplots for 4 different categorical variab;es\n",
    "sns.set_theme(style='whitegrid')\n",
    "\n",
    "fig = plt.figure()\n",
    "\n",
    "cust_seg=transaction_all.groupby(['Customer_Segment'])[['Fraud_Flag']].sum().reset_index()\n",
    "cust_grp=transaction_all.groupby(['Customer_Vintage_Group'])[['Fraud_Flag']].sum().reset_index()\n",
    "card_fam=transaction_all.groupby(['Card_Family'])[['Fraud_Flag']].sum().reset_index()\n",
    "trans_seg=transaction_all.groupby(['Transaction_Segment'])[['Fraud_Flag']].sum().reset_index()\n",
    "\n",
    "fig, axes = plt.subplots(2,2,figsize=(10, 7))\n",
    "\n",
    "ax1=sns.barplot(data = cust_seg, x='Customer_Segment', y='Fraud_Flag', ax=axes[0,0])\n",
    "ax1.set( ylabel='Total No. of Frauds')\n",
    "\n",
    "ax2=sns.barplot(data = cust_grp, x='Customer_Vintage_Group', y='Fraud_Flag', ax=axes[0,1])\n",
    "ax2.set( ylabel='Total No. of Frauds')\n",
    "\n",
    "ax3=sns.barplot(data = card_fam, x='Card_Family', y='Fraud_Flag', ax=axes[1,0])\n",
    "ax3.set( ylabel='Total No. of Frauds')\n",
    "\n",
    "ax4=sns.barplot(data = trans_seg, x='Transaction_Segment', y='Fraud_Flag', ax=axes[1,1])\n",
    "ax4.set( ylabel='Total No. of Frauds')\n",
    "\n",
    "fig.tight_layout()\n",
    "\n",
    "plt.xticks(rotation=45)\n",
    "plt.show()"
   ]
  },
  {
   "cell_type": "markdown",
   "id": "de0a05f5",
   "metadata": {},
   "source": [
    "We see that Diamond Customer Segment and VG1 Customer Vintage Group account for more than 50% of the total frauds. However, the distribution of the first two plots appear very similar. We will explore if Customer Segment and Customer Vintage Group are directly co-related further below.\n",
    "\n",
    "For Card Family- Premium, the total number of frauds is significantly higher than the other two categories. "
   ]
  },
  {
   "cell_type": "code",
   "execution_count": 116,
   "id": "cddfdea4",
   "metadata": {},
   "outputs": [
    {
     "data": {
      "text/plain": [
       "Customer_Segment  Customer_Vintage_Group\n",
       "Diamond           VG1                       4460\n",
       "Gold              VG3                       3252\n",
       "Platinum          VG2                       2288\n",
       "dtype: int64"
      ]
     },
     "execution_count": 116,
     "metadata": {},
     "output_type": "execute_result"
    }
   ],
   "source": [
    "transaction_all[['Customer_Segment','Customer_Vintage_Group']].value_counts()"
   ]
  },
  {
   "cell_type": "markdown",
   "id": "1d4cd8c2",
   "metadata": {},
   "source": [
    "We see that the two features Customer_Segment and Customer_Vintage_Group have a one-to-one direct relation. That is, for example, every Diamond Segment customer only belongs to the VG1 Customer Vintage Group and no other Customer Vintage Group. This holds true for the GOld and Platinum Segment customers as well.\n",
    "\n",
    "Plotting the distribution of frauds by month:"
   ]
  },
  {
   "cell_type": "code",
   "execution_count": 117,
   "id": "fa1b39fc",
   "metadata": {},
   "outputs": [
    {
     "data": {
      "text/plain": [
       "<AxesSubplot:xlabel='month', ylabel='Fraud_Flag'>"
      ]
     },
     "execution_count": 117,
     "metadata": {},
     "output_type": "execute_result"
    },
    {
     "data": {
      "image/png": "[encoded data removed]",
      "text/plain": [
       "<Figure size 432x288 with 1 Axes>"
      ]
     },
     "metadata": {},
     "output_type": "display_data"
    }
   ],
   "source": [
    "#transaction_all[['Transaction_Date']].value_counts()\n",
    "transaction_all['year'] = pd.DatetimeIndex(transaction_all['Transaction_Date']).year\n",
    "transaction_all['year']=transaction_all['year'].astype(int)\n",
    "\n",
    "transaction_all['month'] = pd.DatetimeIndex(transaction_all['Transaction_Date']).month\n",
    "transaction_all['month']=transaction_all['month'].astype(int)\n",
    "\n",
    "transaction_all[['year','month']].value_counts()\n",
    "df=transaction_all.groupby(['year','month'])[['Fraud_Flag']].sum().reset_index()\n",
    "\n",
    "df.head(20)\n",
    "\n",
    "sns.barplot(data=transaction_all, x='month', y='Fraud_Flag')"
   ]
  },
  {
   "cell_type": "markdown",
   "id": "e655921a",
   "metadata": {},
   "source": [
    "Visualizing the relationship between the different card families and their credit limit below:"
   ]
  },
  {
   "cell_type": "code",
   "execution_count": 118,
   "id": "fd1904bc",
   "metadata": {},
   "outputs": [
    {
     "data": {
      "text/plain": [
       "<AxesSubplot:xlabel='Card_Family', ylabel='Credit_Limit'>"
      ]
     },
     "execution_count": 118,
     "metadata": {},
     "output_type": "execute_result"
    },
    {
     "data": {
      "image/png": "[encoded data removed]",
      "text/plain": [
       "<Figure size 432x288 with 1 Axes>"
      ]
     },
     "metadata": {},
     "output_type": "display_data"
    }
   ],
   "source": [
    "sns.boxplot(data=transaction_all, x='Card_Family', y='Credit_Limit')"
   ]
  },
  {
   "cell_type": "markdown",
   "id": "3dfa7edb",
   "metadata": {},
   "source": [
    "Next, we try to understand how the numerical features relate to the cases of fraud using the plots below:"
   ]
  },
  {
   "cell_type": "code",
   "execution_count": 119,
   "id": "15fab8ce",
   "metadata": {},
   "outputs": [
    {
     "data": {
      "text/plain": [
       "<seaborn.axisgrid.FacetGrid at 0x19854057070>"
      ]
     },
     "execution_count": 119,
     "metadata": {},
     "output_type": "execute_result"
    },
    {
     "data": {
      "image/png": "[encoded data removed]",
      "text/plain": [
       "<Figure size 360x360 with 1 Axes>"
      ]
     },
     "metadata": {},
     "output_type": "display_data"
    },
    {
     "data": {
      "image/png": "[encoded data removed]",
      "text/plain": [
       "<Figure size 360x360 with 1 Axes>"
      ]
     },
     "metadata": {},
     "output_type": "display_data"
    },
    {
     "data": {
      "image/png": "[encoded data removed]",
      "text/plain": [
       "<Figure size 360x360 with 1 Axes>"
      ]
     },
     "metadata": {},
     "output_type": "display_data"
    }
   ],
   "source": [
    "sns.catplot(data=transaction_all, x='Fraud_Flag', y='Transaction_Value')\n",
    "sns.catplot(data=transaction_all, x='Fraud_Flag', y='Age')\n",
    "sns.catplot(data=transaction_all, x='Fraud_Flag', y='Credit_Limit')"
   ]
  },
  {
   "cell_type": "markdown",
   "id": "b13632c7",
   "metadata": {},
   "source": [
    "We can clearly see that, we have more cases of fraud in cards with lower credit limits.\n",
    "\n",
    "## Encoding important categorical features:\n",
    "Using one-hot dummy Encoding to encode categorical features like : Customer_Segment, Card_Family, Transaction_Segment."
   ]
  },
  {
   "cell_type": "code",
   "execution_count": 120,
   "id": "e61f8a09",
   "metadata": {},
   "outputs": [],
   "source": [
    "transaction_all_1=pd.get_dummies(transaction_all, columns=['Customer_Segment'],  drop_first=True,prefix='Cust_').copy()\n",
    "transaction_all_2=pd.get_dummies(transaction_all_1, columns=['Card_Family'], drop_first=True, prefix='Card_').copy()\n",
    "#transaction_all_3=pd.get_dummies(transaction_all_2, columns=['Customer_Vintage_Group'], drop_first=True, prefix='CustVintGR_').copy()\n",
    "transactions_onehot=pd.get_dummies(transaction_all_2, columns=['Transaction_Segment'], drop_first=True, prefix='Trans').copy()"
   ]
  },
  {
   "cell_type": "markdown",
   "id": "08c58a56",
   "metadata": {},
   "source": [
    "## Feature Scaling\n",
    "We see that the numerical features like Age, Credit_Limit and Transaction_Value have varying degrees of magnitude and range. So, in order to standardize them, we use feature scaling with Standard scaler."
   ]
  },
  {
   "cell_type": "code",
   "execution_count": 121,
   "id": "a365bd00",
   "metadata": {},
   "outputs": [
    {
     "data": {
      "text/html": [
       "<div>\n",
       "<style scoped>\n",
       "    .dataframe tbody tr th:only-of-type {\n",
       "        vertical-align: middle;\n",
       "    }\n",
       "\n",
       "    .dataframe tbody tr th {\n",
       "        vertical-align: top;\n",
       "    }\n",
       "\n",
       "    .dataframe thead th {\n",
       "        text-align: right;\n",
       "    }\n",
       "</style>\n",
       "<table border=\"1\" class=\"dataframe\">\n",
       "  <thead>\n",
       "    <tr style=\"text-align: right;\">\n",
       "      <th></th>\n",
       "      <th>Cust__Gold</th>\n",
       "      <th>Cust__Platinum</th>\n",
       "      <th>Card__Platinum</th>\n",
       "      <th>Card__Premium</th>\n",
       "      <th>Trans_SEG12</th>\n",
       "      <th>Trans_SEG13</th>\n",
       "      <th>Trans_SEG14</th>\n",
       "      <th>Trans_SEG15</th>\n",
       "      <th>Trans_SEG16</th>\n",
       "      <th>Trans_SEG17</th>\n",
       "      <th>...</th>\n",
       "      <th>Trans_SEG19</th>\n",
       "      <th>Trans_SEG20</th>\n",
       "      <th>Trans_SEG21</th>\n",
       "      <th>Trans_SEG22</th>\n",
       "      <th>Trans_SEG23</th>\n",
       "      <th>Trans_SEG24</th>\n",
       "      <th>Trans_SEG25</th>\n",
       "      <th>normAge</th>\n",
       "      <th>normCredit_Limit</th>\n",
       "      <th>normTransaction_Value</th>\n",
       "    </tr>\n",
       "  </thead>\n",
       "  <tbody>\n",
       "    <tr>\n",
       "      <th>12</th>\n",
       "      <td>0</td>\n",
       "      <td>0</td>\n",
       "      <td>0</td>\n",
       "      <td>0</td>\n",
       "      <td>0</td>\n",
       "      <td>0</td>\n",
       "      <td>0</td>\n",
       "      <td>0</td>\n",
       "      <td>0</td>\n",
       "      <td>0</td>\n",
       "      <td>...</td>\n",
       "      <td>1</td>\n",
       "      <td>0</td>\n",
       "      <td>0</td>\n",
       "      <td>0</td>\n",
       "      <td>0</td>\n",
       "      <td>0</td>\n",
       "      <td>0</td>\n",
       "      <td>-0.636981</td>\n",
       "      <td>-0.832997</td>\n",
       "      <td>-0.351956</td>\n",
       "    </tr>\n",
       "    <tr>\n",
       "      <th>13</th>\n",
       "      <td>0</td>\n",
       "      <td>0</td>\n",
       "      <td>0</td>\n",
       "      <td>0</td>\n",
       "      <td>0</td>\n",
       "      <td>0</td>\n",
       "      <td>0</td>\n",
       "      <td>0</td>\n",
       "      <td>1</td>\n",
       "      <td>0</td>\n",
       "      <td>...</td>\n",
       "      <td>0</td>\n",
       "      <td>0</td>\n",
       "      <td>0</td>\n",
       "      <td>0</td>\n",
       "      <td>0</td>\n",
       "      <td>0</td>\n",
       "      <td>0</td>\n",
       "      <td>-0.636981</td>\n",
       "      <td>-0.832997</td>\n",
       "      <td>-0.139575</td>\n",
       "    </tr>\n",
       "    <tr>\n",
       "      <th>14</th>\n",
       "      <td>0</td>\n",
       "      <td>0</td>\n",
       "      <td>0</td>\n",
       "      <td>0</td>\n",
       "      <td>0</td>\n",
       "      <td>0</td>\n",
       "      <td>0</td>\n",
       "      <td>0</td>\n",
       "      <td>0</td>\n",
       "      <td>0</td>\n",
       "      <td>...</td>\n",
       "      <td>1</td>\n",
       "      <td>0</td>\n",
       "      <td>0</td>\n",
       "      <td>0</td>\n",
       "      <td>0</td>\n",
       "      <td>0</td>\n",
       "      <td>0</td>\n",
       "      <td>-0.636981</td>\n",
       "      <td>-0.832997</td>\n",
       "      <td>-0.059688</td>\n",
       "    </tr>\n",
       "    <tr>\n",
       "      <th>15</th>\n",
       "      <td>0</td>\n",
       "      <td>0</td>\n",
       "      <td>0</td>\n",
       "      <td>0</td>\n",
       "      <td>0</td>\n",
       "      <td>0</td>\n",
       "      <td>0</td>\n",
       "      <td>0</td>\n",
       "      <td>0</td>\n",
       "      <td>1</td>\n",
       "      <td>...</td>\n",
       "      <td>0</td>\n",
       "      <td>0</td>\n",
       "      <td>0</td>\n",
       "      <td>0</td>\n",
       "      <td>0</td>\n",
       "      <td>0</td>\n",
       "      <td>0</td>\n",
       "      <td>-0.636981</td>\n",
       "      <td>-0.832997</td>\n",
       "      <td>1.526353</td>\n",
       "    </tr>\n",
       "    <tr>\n",
       "      <th>16</th>\n",
       "      <td>0</td>\n",
       "      <td>0</td>\n",
       "      <td>0</td>\n",
       "      <td>0</td>\n",
       "      <td>0</td>\n",
       "      <td>0</td>\n",
       "      <td>0</td>\n",
       "      <td>0</td>\n",
       "      <td>1</td>\n",
       "      <td>0</td>\n",
       "      <td>...</td>\n",
       "      <td>0</td>\n",
       "      <td>0</td>\n",
       "      <td>0</td>\n",
       "      <td>0</td>\n",
       "      <td>0</td>\n",
       "      <td>0</td>\n",
       "      <td>0</td>\n",
       "      <td>-0.636981</td>\n",
       "      <td>-0.832997</td>\n",
       "      <td>1.524474</td>\n",
       "    </tr>\n",
       "  </tbody>\n",
       "</table>\n",
       "<p>5 rows × 21 columns</p>\n",
       "</div>"
      ],
      "text/plain": [
       "    Cust__Gold  Cust__Platinum  Card__Platinum  Card__Premium  Trans_SEG12  \\\n",
       "12           0               0               0              0            0   \n",
       "13           0               0               0              0            0   \n",
       "14           0               0               0              0            0   \n",
       "15           0               0               0              0            0   \n",
       "16           0               0               0              0            0   \n",
       "\n",
       "    Trans_SEG13  Trans_SEG14  Trans_SEG15  Trans_SEG16  Trans_SEG17  ...  \\\n",
       "12            0            0            0            0            0  ...   \n",
       "13            0            0            0            1            0  ...   \n",
       "14            0            0            0            0            0  ...   \n",
       "15            0            0            0            0            1  ...   \n",
       "16            0            0            0            1            0  ...   \n",
       "\n",
       "    Trans_SEG19  Trans_SEG20  Trans_SEG21  Trans_SEG22  Trans_SEG23  \\\n",
       "12            1            0            0            0            0   \n",
       "13            0            0            0            0            0   \n",
       "14            1            0            0            0            0   \n",
       "15            0            0            0            0            0   \n",
       "16            0            0            0            0            0   \n",
       "\n",
       "    Trans_SEG24  Trans_SEG25   normAge  normCredit_Limit  \\\n",
       "12            0            0 -0.636981         -0.832997   \n",
       "13            0            0 -0.636981         -0.832997   \n",
       "14            0            0 -0.636981         -0.832997   \n",
       "15            0            0 -0.636981         -0.832997   \n",
       "16            0            0 -0.636981         -0.832997   \n",
       "\n",
       "    normTransaction_Value  \n",
       "12              -0.351956  \n",
       "13              -0.139575  \n",
       "14              -0.059688  \n",
       "15               1.526353  \n",
       "16               1.524474  \n",
       "\n",
       "[5 rows x 21 columns]"
      ]
     },
     "execution_count": 121,
     "metadata": {},
     "output_type": "execute_result"
    }
   ],
   "source": [
    "from sklearn.preprocessing import StandardScaler\n",
    "\n",
    "#using standard scaler\n",
    "transactions_onehot['normAge'] = StandardScaler().fit_transform(transactions_onehot[['Age']])\n",
    "transactions_onehot['normCredit_Limit'] = StandardScaler().fit_transform(transactions_onehot[['Credit_Limit']])\n",
    "transactions_onehot['normTransaction_Value'] = StandardScaler().fit_transform(transactions_onehot[['Transaction_Value']])\n",
    "\n",
    "#dropping the features we will not be using for our model input\n",
    "drop_features=['Age','Cust_ID','Card_Number','Credit_Limit','Transaction_Value','Customer_Vintage_Group','Transaction_ID','Transaction_Date','Credit_Card_ID','year','month',\"Fraud_Flag\"]\n",
    "\n",
    "#preparing the feature and target variables for our model-before sampling\n",
    "X=transactions_onehot.drop(drop_features, axis=1)\n",
    "Y = transactions_onehot[\"Fraud_Flag\"]\n",
    "X.columns\n",
    "X.head()"
   ]
  },
  {
   "cell_type": "markdown",
   "id": "41773259",
   "metadata": {},
   "source": [
    "Next we try to find the quantitative imbalance present in the data."
   ]
  },
  {
   "cell_type": "code",
   "execution_count": 122,
   "id": "8e22832b",
   "metadata": {},
   "outputs": [
    {
     "name": "stdout",
     "output_type": "stream",
     "text": [
      "0.011020119300374078\n",
      "Fraud Cases: 109\n",
      "Valid Transactions: 9891\n"
     ]
    }
   ],
   "source": [
    "#output the imbalance in the data\n",
    "fraud = transactions_onehot[transactions_onehot['Fraud_Flag'] == 1] \n",
    "valid = transactions_onehot[transactions_onehot['Fraud_Flag'] == 0] \n",
    "outlierFraction = len(fraud)/float(len(valid)) \n",
    "print(outlierFraction) \n",
    "print('Fraud Cases: {}'.format(len(transactions_onehot[transactions_onehot['Fraud_Flag'] == 1]))) \n",
    "print('Valid Transactions: {}'.format(len(transactions_onehot[transactions_onehot['Fraud_Flag'] == 0]))) "
   ]
  },
  {
   "cell_type": "markdown",
   "id": "edf59096",
   "metadata": {},
   "source": [
    "We see that just a little over 1% of the cases are classified as fraud. This clearly shows that the datatset is heavily imbalanced."
   ]
  },
  {
   "cell_type": "markdown",
   "id": "9c68551a",
   "metadata": {},
   "source": [
    "### Sampling - Oversampling\n",
    "\n",
    "We use random oversampling to scale up the minority class and train our model to even out the imbalance in our dataset."
   ]
  },
  {
   "cell_type": "code",
   "execution_count": 123,
   "id": "20849b52",
   "metadata": {},
   "outputs": [
    {
     "data": {
      "text/plain": [
       "0    9891\n",
       "1    9891\n",
       "Name: Fraud_Flag, dtype: int64"
      ]
     },
     "execution_count": 123,
     "metadata": {},
     "output_type": "execute_result"
    }
   ],
   "source": [
    "from sklearn.utils import resample\n",
    "\n",
    "fraud_upsampled = resample(fraud,\n",
    "                                replace = True,\n",
    "                                n_samples = len(valid), # match minority n\n",
    "                                random_state = 27,\n",
    "                                ) \n",
    "\n",
    "oversampled = pd.concat([valid, fraud_upsampled])\n",
    "\n",
    "#creating our feature and target arrays from the sampled data\n",
    "X_over =oversampled.drop(drop_features, axis=1)\n",
    "Y_over = oversampled[\"Fraud_Flag\"]\n",
    "\n",
    "#printing the counts for fraud and non-fraud cases in our resampled data\n",
    "oversampled.Fraud_Flag.value_counts()"
   ]
  },
  {
   "cell_type": "markdown",
   "id": "64456c74",
   "metadata": {},
   "source": [
    "### Building our model:\n",
    "\n",
    "We build two classifiers: Logistic Regression and Random Forest Classifier and evaluate them to select the one with the best precision and recall. Since our dataset is imbalanced, accuracy is not a correct metric for model evaluation."
   ]
  },
  {
   "cell_type": "code",
   "execution_count": 124,
   "id": "24068617",
   "metadata": {},
   "outputs": [
    {
     "name": "stdout",
     "output_type": "stream",
     "text": [
      "(10000, 21)\n",
      "(10000,)\n"
     ]
    }
   ],
   "source": [
    "#import necessary packages for building a logistic regression mode and Random Forest\n",
    "from sklearn.model_selection import train_test_split\n",
    "from sklearn.ensemble import RandomForestClassifier\n",
    "from sklearn.linear_model import LogisticRegression\n",
    "\n",
    "#import necessary packages for evaluation metrics\n",
    "from sklearn.metrics import classification_report, accuracy_score \n",
    "from sklearn.metrics import precision_score, recall_score\n",
    "from sklearn.metrics import f1_score\n",
    "from sklearn.metrics import confusion_matrix\n",
    "\n",
    "print(X.shape)\n",
    "print(Y.shape)\n",
    "# getting just the values for the sake of processing \n",
    "xData = X.values\n",
    "yData = Y.values\n",
    "\n",
    "xTrain, xTest, yTrain, yTest = train_test_split(\n",
    "        xData, yData, test_size = 0.2, random_state = 42)"
   ]
  },
  {
   "cell_type": "markdown",
   "id": "7652c173",
   "metadata": {},
   "source": [
    "We train the model with the resampled data and then evaluate it with data from our original dataset."
   ]
  },
  {
   "cell_type": "code",
   "execution_count": 125,
   "id": "b8e265c7",
   "metadata": {},
   "outputs": [
    {
     "name": "stdout",
     "output_type": "stream",
     "text": [
      "[0 0 0 ... 0 0 0]\n"
     ]
    }
   ],
   "source": [
    "#splitting out dataset into testing and training sets\n",
    "xTrain2, xTest2, yTrain2, yTest2 = train_test_split(\n",
    "        X_over, Y_over, test_size = 0.2, random_state = 42)\n",
    "\n",
    "#building the Random forest classifier from our sampled training data\n",
    "rfc2 = RandomForestClassifier()\n",
    "# fitting the classifier to the oversampled training data\n",
    "rfc2.fit(xTrain2, yTrain2)\n",
    "yPred2 = rfc2.predict(xTest)\n",
    "print(yPred2)\n",
    "\n",
    "logreg = LogisticRegression()\n",
    "logreg.fit(xTrain2, yTrain2)\n",
    "\n",
    "# Predict the labels of the test set\n",
    "y_pred_log2 = logreg.predict(xTest)"
   ]
  },
  {
   "cell_type": "markdown",
   "id": "f085c495",
   "metadata": {},
   "source": [
    "## Evaluating our model:\n",
    "\n",
    "We evaluate our classification model based on precision, Recall and F1-score. Accuracy is not a correct metric here, since our dataset is highly skewed in favour of one particular class."
   ]
  },
  {
   "cell_type": "code",
   "execution_count": 126,
   "id": "790fb048",
   "metadata": {},
   "outputs": [
    {
     "name": "stdout",
     "output_type": "stream",
     "text": [
      "Model: Random Forest classifier\n",
      "Accuracy: 0.9995\n",
      "Precision: 0.9523809523809523\n",
      "Recall: 1.0\n",
      "F1 Score 0.975609756097561\n"
     ]
    },
    {
     "data": {
      "image/png": "[encoded data removed]",
      "text/plain": [
       "<Figure size 432x288 with 2 Axes>"
      ]
     },
     "metadata": {},
     "output_type": "display_data"
    },
    {
     "name": "stdout",
     "output_type": "stream",
     "text": [
      "\n",
      "\n",
      "Model: Logistic Regression\n",
      "Accuracy: 0.548\n",
      "Precision for logReg: 0.012141280353200883\n",
      "Recall: 0.55\n",
      "F1 Score 0.023758099352051837\n",
      "[[1085  895]\n",
      " [   9   11]]\n"
     ]
    }
   ],
   "source": [
    "print(\"Model: Random Forest classifier\")\n",
    "\n",
    "#Computing the accuracy, precision, recall and F1 score for the RF classifier\n",
    "acc = accuracy_score(yTest, yPred2)\n",
    "print(\"Accuracy: {}\".format(acc))\n",
    "prec = precision_score(yTest, yPred2)\n",
    "print(\"Precision: {}\".format(prec))\n",
    "rec = recall_score(yTest, yPred2)\n",
    "print(\"Recall: {}\".format(rec))\n",
    "f1 = f1_score(yTest, yPred2)\n",
    "print(\"F1 Score {}\".format(f1))\n",
    "cf_matrix=confusion_matrix(yTest, yPred2)\n",
    "labels = ['True Negative','False Positive','False Negative','True Positive']\n",
    "labels = np.asarray(labels).reshape(2,2)\n",
    "sns.heatmap(cf_matrix, annot=True, fmt='', cmap='Blues')\n",
    "plt.show()\n",
    "\n",
    "print(\"\\n\\nModel: Logistic Regression\")\n",
    "#Computing the accuracy, precision, recall and F1 score for the Ogistic Regression model\n",
    "acc = accuracy_score(yTest, y_pred_log2)\n",
    "print(\"Accuracy: {}\".format(acc))\n",
    "prec_log = precision_score(yTest, y_pred_log2)\n",
    "print(\"Precision for logReg: {}\".format(prec_log))\n",
    "rec_log = recall_score(yTest, y_pred_log2)\n",
    "print(\"Recall: {}\".format(rec_log))\n",
    "f1 = f1_score(yTest, y_pred_log2)\n",
    "print(\"F1 Score {}\".format(f1))\n",
    "print(confusion_matrix(yTest, y_pred_log2))"
   ]
  },
  {
   "cell_type": "markdown",
   "id": "1a3a1822",
   "metadata": {},
   "source": [
    "### Understanding feature importances:\n",
    "\n",
    "We try to understand the relative importance of the different features in our RF model with help of the barplot below:"
   ]
  },
  {
   "cell_type": "code",
   "execution_count": 127,
   "id": "cdefe5f8",
   "metadata": {},
   "outputs": [
    {
     "data": {
      "image/png": "[encoded data removed]",
      "text/plain": [
       "<Figure size 432x288 with 1 Axes>"
      ]
     },
     "metadata": {},
     "output_type": "display_data"
    }
   ],
   "source": [
    "importances = pd.Series(data=rfc2.feature_importances_,\n",
    "                        index= xTrain2.columns)\n",
    "importances_sorted = importances.sort_values()\n",
    "#plotting the feature importances\n",
    "importances_sorted.plot(kind='bar', color='green')\n",
    "plt.title('Features Importances')\n",
    "plt.show()"
   ]
  },
  {
   "cell_type": "markdown",
   "id": "12451c30",
   "metadata": {},
   "source": [
    "## Hyperparameter tuning for Logistic Regression:"
   ]
  },
  {
   "cell_type": "code",
   "execution_count": 128,
   "id": "e3dddd64",
   "metadata": {},
   "outputs": [
    {
     "name": "stdout",
     "output_type": "stream",
     "text": [
      "Tuned Logistic Regression Parameters: {'C': 268.2695795279727}\n",
      "Best score is 0.5993680884676145\n",
      "\n",
      "Model: Logistic Regression\n",
      "Accuracy: 0.5485\n",
      "Precision for logReg: 0.012154696132596685\n",
      "Recall: 0.55\n",
      "F1 Score 0.023783783783783784\n",
      "[[1086  894]\n",
      " [   9   11]]\n"
     ]
    }
   ],
   "source": [
    "from sklearn.model_selection import GridSearchCV\n",
    "c_space = np.logspace(-5, 8, 15)\n",
    "param_grid = {'C': c_space}\n",
    "\n",
    "# Instantiating a logreg classifier\n",
    "logreg = LogisticRegression()\n",
    "\n",
    "# Instantiating the GridSearchCV\n",
    "logreg_cv = GridSearchCV(logreg, param_grid, cv=5)\n",
    "\n",
    "# Fitting to the training data\n",
    "logreg_cv.fit(xTrain2, yTrain2)\n",
    "\n",
    "# Print the tuned parameters and score\n",
    "print(\"Tuned Logistic Regression Parameters: {}\".format(logreg_cv.best_params_)) \n",
    "print(\"Best score is {}\".format(logreg_cv.best_score_))\n",
    "\n",
    "y_pred_log2 = logreg_cv.predict(xTest)\n",
    "print(\"\\nModel: Logistic Regression\")\n",
    "\n",
    "#Computing the evaluation scores\n",
    "acc = accuracy_score(yTest, y_pred_log2)\n",
    "print(\"Accuracy: {}\".format(acc))\n",
    "prec_log = precision_score(yTest, y_pred_log2)\n",
    "print(\"Precision for logReg: {}\".format(prec_log))\n",
    "rec_log = recall_score(yTest, y_pred_log2)\n",
    "print(\"Recall: {}\".format(rec_log))\n",
    "f1 = f1_score(yTest, y_pred_log2)\n",
    "print(\"F1 Score {}\".format(f1))\n",
    "print(confusion_matrix(yTest, y_pred_log2))"
   ]
  },
  {
   "cell_type": "markdown",
   "id": "1d1ff0fc",
   "metadata": {},
   "source": [
    "Tuning hyperparamter C for Logistic Regression only marginally increases the performance of the model, the RF Classifier still performs much better.\n",
    "\n",
    "So, for predicting credit card frauds, it is better to use a Random Forest Classifier."
   ]
  }
 ],
 "metadata": {
  "kernelspec": {
   "display_name": "Python 3",
   "language": "python",
   "name": "python3"
  },
  "language_info": {
   "codemirror_mode": {
    "name": "ipython",
    "version": 3
   },
   "file_extension": ".py",
   "mimetype": "text/x-python",
   "name": "python",
   "nbconvert_exporter": "python",
   "pygments_lexer": "ipython3",
   "version": "3.9.5"
  }
 },
 "nbformat": 4,
 "nbformat_minor": 5
}
